{
 "cells": [
  {
   "cell_type": "code",
   "execution_count": 13,
   "metadata": {},
   "outputs": [],
   "source": [
    "import numpy as np\n",
    "import pandas as pd\n",
    "import matplotlib.pyplot as plt\n",
    "from scipy.cluster.vq import kmeans2, whiten"
   ]
  },
  {
   "cell_type": "code",
   "execution_count": 14,
   "metadata": {},
   "outputs": [],
   "source": [
    "from scipy.cluster.hierarchy import dendrogram, linkage, fcluster\n",
    "#from geopy.distance import vincenty\n",
    "from sklearn.decomposition import PCA\n",
    "from sklearn.cluster import DBSCAN\n",
    "import matplotlib.cm as cm\n",
    "from scipy.spatial.distance import cdist, pdist\n",
    "from sklearn import metrics\n",
    "from sklearn.cluster import KMeans\n",
    "from sklearn.preprocessing import StandardScaler\n",
    "from datetime import datetime\n",
    "import pandas as pd\n",
    "import numpy as np\n",
    "import matplotlib.pyplot as plt\n",
    "plt.style.use('ggplot')\n",
    "#from mpl_toolkits.basemap import Basemap\n",
    "import copy\n",
    "import json\n",
    "import math\n",
    "from collections import OrderedDict\n",
    "import warnings\n",
    "warnings.filterwarnings('ignore')\n",
    "%matplotlib inline"
   ]
  },
  {
   "cell_type": "markdown",
   "metadata": {},
   "source": [
    "## ground floor before covid19"
   ]
  },
  {
   "cell_type": "code",
   "execution_count": 15,
   "metadata": {},
   "outputs": [],
   "source": [
    "df_before = pd.read_csv(\"/Users/ruichao/Desktop/datapart2/78.txt\")\n",
    "df_before.columns = ['building', 'location', 'macaddress','latitude','longitude','date','time']"
   ]
  },
  {
   "cell_type": "code",
   "execution_count": 16,
   "metadata": {},
   "outputs": [],
   "source": [
    "df_before = df_before[(df_before['time'] > \"06:00:00\") & (df_before['time'] < \"22:00:00\")]"
   ]
  },
  {
   "cell_type": "code",
   "execution_count": 17,
   "metadata": {},
   "outputs": [
    {
     "data": {
      "text/plain": [
       "a4:c3:f0:a1:fb:b7    16997\n",
       "90:61:ae:25:4f:7c    16057\n",
       "9c:da:3e:7f:8e:ab    15379\n",
       "a4:c3:f0:a1:fa:b3    15360\n",
       "54:99:63:cd:7d:c7    15290\n",
       "                     ...  \n",
       "80:58:f8:c9:7b:09        3\n",
       "80:58:f8:38:ea:9c        3\n",
       "80:58:f8:c1:4f:82        3\n",
       "80:58:f8:e3:5e:d9        3\n",
       "80:58:f8:62:93:0e        3\n",
       "Name: macaddress, Length: 9086, dtype: int64"
      ]
     },
     "execution_count": 17,
     "metadata": {},
     "output_type": "execute_result"
    }
   ],
   "source": [
    "df_before['macaddress'].value_counts(ascending=False)"
   ]
  },
  {
   "cell_type": "code",
   "execution_count": 18,
   "metadata": {},
   "outputs": [
    {
     "data": {
      "text/plain": [
       "2019-10-23    365071\n",
       "2019-10-24    320343\n",
       "2019-10-22    281967\n",
       "2019-10-21    208597\n",
       "2019-10-28    152055\n",
       "2019-10-25    126074\n",
       "2019-10-19      8063\n",
       "2019-10-26      4900\n",
       "2019-10-20      4623\n",
       "2019-10-18      3966\n",
       "2019-10-27      2204\n",
       "Name: date, dtype: int64"
      ]
     },
     "execution_count": 18,
     "metadata": {},
     "output_type": "execute_result"
    }
   ],
   "source": [
    "df_before['date'].value_counts(ascending=False)"
   ]
  },
  {
   "cell_type": "code",
   "execution_count": 25,
   "metadata": {},
   "outputs": [],
   "source": [
    "df_one_day = df_before[df_before['date'] == '2019-10-23']"
   ]
  },
  {
   "cell_type": "code",
   "execution_count": 26,
   "metadata": {},
   "outputs": [
    {
     "data": {
      "image/png": "[encoded data removed]",
      "text/plain": [
       "<Figure size 432x288 with 1 Axes>"
      ]
     },
     "metadata": {
      "needs_background": "light"
     },
     "output_type": "display_data"
    }
   ],
   "source": [
    "series = df_one_day['macaddress'].value_counts(ascending=False)\n",
    "list_ = series.to_list()\n",
    "p = series.plot(kind='hist', color='r', alpha=0.5)"
   ]
  },
  {
   "cell_type": "markdown",
   "metadata": {},
   "source": [
    "## average daily count of macaddress before covid 19"
   ]
  },
  {
   "cell_type": "code",
   "execution_count": 21,
   "metadata": {},
   "outputs": [
    {
     "data": {
      "text/plain": [
       "134351.18181818182"
      ]
     },
     "execution_count": 21,
     "metadata": {},
     "output_type": "execute_result"
    }
   ],
   "source": [
    "avg_count_before = sum(df_before['date'].value_counts(ascending=False))/len(df_before['date'].value_counts(ascending=False))\n",
    "avg_count_before"
   ]
  },
  {
   "cell_type": "markdown",
   "metadata": {},
   "source": [
    "## ground floor after covid19"
   ]
  },
  {
   "cell_type": "code",
   "execution_count": 22,
   "metadata": {},
   "outputs": [
    {
     "data": {
      "text/plain": [
       "2020-05-27    27907\n",
       "2020-05-20    26529\n",
       "2020-06-04    23605\n",
       "2020-05-26    21600\n",
       "2020-05-28    19587\n",
       "2020-06-02    14206\n",
       "2020-05-19    13979\n",
       "2020-06-01    13931\n",
       "2020-05-21    12672\n",
       "2020-05-22    11034\n",
       "2020-06-03    10666\n",
       "2020-06-05    10420\n",
       "2020-05-18     9831\n",
       "2020-05-29     7808\n",
       "2020-05-23     3514\n",
       "2020-05-24     3396\n",
       "2020-05-25     3042\n",
       "2020-06-07      773\n",
       "2020-05-17      689\n",
       "2020-06-06      671\n",
       "2020-05-31      572\n",
       "2020-05-30      294\n",
       "Name: date, dtype: int64"
      ]
     },
     "execution_count": 22,
     "metadata": {},
     "output_type": "execute_result"
    }
   ],
   "source": [
    "df_after = pd.read_csv(\"/Users/ruichao/Desktop/datapart2/64.txt\")\n",
    "df_after.columns = ['building', 'location', 'macaddress','latitude','longitude','date','time']\n",
    "df_after = df_after[(df_after['time'] > \"06:00:00\") & (df_after['time'] < \"22:00:00\")]\n",
    "df_after['macaddress'].value_counts(ascending=False)\n",
    "df_after['date'].value_counts(ascending=False)\n"
   ]
  },
  {
   "cell_type": "code",
   "execution_count": 23,
   "metadata": {},
   "outputs": [
    {
     "data": {
      "image/png": "[encoded data removed]",
      "text/plain": [
       "<Figure size 432x288 with 1 Axes>"
      ]
     },
     "metadata": {
      "needs_background": "light"
     },
     "output_type": "display_data"
    }
   ],
   "source": [
    "df_oneday2 = df_after[df_after['date'] == '2020-05-28']\n",
    "series2 = df_oneday2['macaddress'].value_counts(ascending=False)\n",
    "list_2 = series2.to_list()\n",
    "p = series2.plot(kind='hist', color='r', alpha=0.5)"
   ]
  },
  {
   "cell_type": "markdown",
   "metadata": {},
   "source": [
    "## average daily count of macaddress after covid 19"
   ]
  },
  {
   "cell_type": "code",
   "execution_count": 24,
   "metadata": {},
   "outputs": [
    {
     "data": {
      "text/plain": [
       "10760.272727272728"
      ]
     },
     "execution_count": 24,
     "metadata": {},
     "output_type": "execute_result"
    }
   ],
   "source": [
    "avg_count_after = sum(df_after['date'].value_counts(ascending=False))/len(df_after['date'].value_counts(ascending=False))\n",
    "avg_count_after"
   ]
  },
  {
   "cell_type": "code",
   "execution_count": null,
   "metadata": {},
   "outputs": [],
   "source": []
  }
 ],
 "metadata": {
  "kernelspec": {
   "display_name": "Python 3",
   "language": "python",
   "name": "python3"
  },
  "language_info": {
   "codemirror_mode": {
    "name": "ipython",
    "version": 3
   },
   "file_extension": ".py",
   "mimetype": "text/x-python",
   "name": "python",
   "nbconvert_exporter": "python",
   "pygments_lexer": "ipython3",
   "version": "3.8.5"
  }
 },
 "nbformat": 4,
 "nbformat_minor": 4
}
