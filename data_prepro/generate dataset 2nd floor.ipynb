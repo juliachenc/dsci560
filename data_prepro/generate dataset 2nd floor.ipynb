{
 "cells": [
  {
   "cell_type": "code",
   "execution_count": 1,
   "metadata": {},
   "outputs": [],
   "source": [
    "import numpy as np\n",
    "import pandas as pd\n",
    "import matplotlib.pyplot as plt\n",
    "from scipy.cluster.vq import kmeans2, whiten"
   ]
  },
  {
   "cell_type": "code",
   "execution_count": 2,
   "metadata": {},
   "outputs": [],
   "source": [
    "from scipy.cluster.hierarchy import dendrogram, linkage, fcluster\n",
    "#from geopy.distance import vincenty\n",
    "from sklearn.decomposition import PCA\n",
    "from sklearn.cluster import DBSCAN\n",
    "import matplotlib.cm as cm\n",
    "from scipy.spatial.distance import cdist, pdist\n",
    "from sklearn import metrics\n",
    "from sklearn.cluster import KMeans\n",
    "from sklearn.preprocessing import StandardScaler\n",
    "from datetime import datetime\n",
    "import pandas as pd\n",
    "import numpy as np\n",
    "import matplotlib.pyplot as plt\n",
    "plt.style.use('ggplot')\n",
    "#from mpl_toolkits.basemap import Basemap\n",
    "import copy\n",
    "import json\n",
    "import math\n",
    "from collections import OrderedDict\n",
    "import warnings\n",
    "warnings.filterwarnings('ignore')\n",
    "%matplotlib inline"
   ]
  },
  {
   "cell_type": "markdown",
   "metadata": {},
   "source": [
    "## second floor before covid19"
   ]
  },
  {
   "cell_type": "code",
   "execution_count": 4,
   "metadata": {},
   "outputs": [],
   "source": [
    "df_before = pd.read_csv(\"/Users/ruichao/Desktop/datapart2/25.txt\")\n",
    "df_before.columns = ['building', 'location', 'macaddress','latitude','longitude','date','time']"
   ]
  },
  {
   "cell_type": "code",
   "execution_count": 5,
   "metadata": {},
   "outputs": [],
   "source": [
    "df_before = df_before[(df_before['time'] > \"06:00:00\") & (df_before['time'] < \"22:00:00\")]"
   ]
  },
  {
   "cell_type": "code",
   "execution_count": 6,
   "metadata": {},
   "outputs": [
    {
     "data": {
      "text/plain": [
       "88:66:a5:55:b8:76    13231\n",
       "48:a4:72:ae:11:6d    12626\n",
       "ec:2c:e2:37:1d:7b    12077\n",
       "b4:9c:df:7d:d1:c8    11854\n",
       "88:66:a5:1d:16:cd    11673\n",
       "                     ...  \n",
       "24:46:c8:3b:f4:95        3\n",
       "f4:f5:24:6a:1e:99        3\n",
       "88:b4:a6:d6:62:12        3\n",
       "24:46:c8:f2:42:c7        3\n",
       "c0:bd:d1:b5:70:ca        3\n",
       "Name: macaddress, Length: 3857, dtype: int64"
      ]
     },
     "execution_count": 6,
     "metadata": {},
     "output_type": "execute_result"
    }
   ],
   "source": [
    "df_before['macaddress'].value_counts(ascending=False)"
   ]
  },
  {
   "cell_type": "code",
   "execution_count": 7,
   "metadata": {},
   "outputs": [
    {
     "data": {
      "text/plain": [
       "2019-11-12    405660\n",
       "2019-12-02    371801\n",
       "2019-11-28    317280\n",
       "2019-12-03    280222\n",
       "2019-11-11    223570\n",
       "2019-11-29     87945\n",
       "2019-11-13       186\n",
       "2019-11-30       135\n",
       "Name: date, dtype: int64"
      ]
     },
     "execution_count": 7,
     "metadata": {},
     "output_type": "execute_result"
    }
   ],
   "source": [
    "df_before['date'].value_counts(ascending=False)"
   ]
  },
  {
   "cell_type": "code",
   "execution_count": 10,
   "metadata": {},
   "outputs": [],
   "source": [
    "df_one_day = df_before[df_before['date'] == '2019-11-28']"
   ]
  },
  {
   "cell_type": "code",
   "execution_count": 12,
   "metadata": {},
   "outputs": [
    {
     "data": {
      "image/png": "[encoded data removed]",
      "text/plain": [
       "<Figure size 432x288 with 1 Axes>"
      ]
     },
     "metadata": {
      "needs_background": "light"
     },
     "output_type": "display_data"
    }
   ],
   "source": [
    "series = df_one_day['macaddress'].value_counts(ascending=False)\n",
    "list_ = series.to_list()\n",
    "p = series.plot(kind='hist', color='r', alpha=0.5)"
   ]
  },
  {
   "cell_type": "markdown",
   "metadata": {},
   "source": [
    "## average daily count of macaddress before covid 19"
   ]
  },
  {
   "cell_type": "code",
   "execution_count": 20,
   "metadata": {},
   "outputs": [
    {
     "data": {
      "text/plain": [
       "210849.875"
      ]
     },
     "execution_count": 20,
     "metadata": {},
     "output_type": "execute_result"
    }
   ],
   "source": [
    "avg_count_before = sum(df_before['date'].value_counts(ascending=False))/len(df_before['date'].value_counts(ascending=False))\n",
    "avg_count_before"
   ]
  },
  {
   "cell_type": "markdown",
   "metadata": {},
   "source": [
    "## second floor after covid19"
   ]
  },
  {
   "cell_type": "code",
   "execution_count": 13,
   "metadata": {},
   "outputs": [
    {
     "data": {
      "text/plain": [
       "2020-07-30    143980\n",
       "2020-07-20    103981\n",
       "2020-07-23     97935\n",
       "2020-07-15     93479\n",
       "2020-07-22     78865\n",
       "2020-07-13     68227\n",
       "2020-07-16     67350\n",
       "2020-07-28     64532\n",
       "2020-07-27     59682\n",
       "2020-07-29     51789\n",
       "2020-07-09     35850\n",
       "2020-07-21     29243\n",
       "2020-08-03     13369\n",
       "2020-07-24      6003\n",
       "2020-07-17      5042\n",
       "2020-07-10      3061\n",
       "2020-07-14      2851\n",
       "2020-07-31      1279\n",
       "2020-07-12       904\n",
       "2020-07-26       582\n",
       "2020-07-25       493\n",
       "2020-08-02       327\n",
       "2020-07-19       325\n",
       "2020-07-18       298\n",
       "2020-07-11       277\n",
       "2020-08-01       217\n",
       "Name: date, dtype: int64"
      ]
     },
     "execution_count": 13,
     "metadata": {},
     "output_type": "execute_result"
    }
   ],
   "source": [
    "df_after = pd.read_csv(\"/Users/ruichao/Desktop/datapart2/21.txt\")\n",
    "df_after.columns = ['building', 'location', 'macaddress','latitude','longitude','date','time']\n",
    "df_after = df_after[(df_after['time'] > \"06:00:00\") & (df_after['time'] < \"22:00:00\")]\n",
    "df_after['macaddress'].value_counts(ascending=False)\n",
    "df_after['date'].value_counts(ascending=False)\n"
   ]
  },
  {
   "cell_type": "code",
   "execution_count": 17,
   "metadata": {},
   "outputs": [
    {
     "data": {
      "image/png": "[encoded data removed]",
      "text/plain": [
       "<Figure size 432x288 with 1 Axes>"
      ]
     },
     "metadata": {
      "needs_background": "light"
     },
     "output_type": "display_data"
    }
   ],
   "source": [
    "df_oneday2 = df_after[df_after['date'] == '2020-08-03']\n",
    "series2 = df_oneday2['macaddress'].value_counts(ascending=False)\n",
    "list_2 = series2.to_list()\n",
    "p = series2.plot(kind='hist', color='r', alpha=0.5)"
   ]
  },
  {
   "cell_type": "markdown",
   "metadata": {},
   "source": [
    "## average daily count of macaddress after covid 19"
   ]
  },
  {
   "cell_type": "code",
   "execution_count": 19,
   "metadata": {},
   "outputs": [
    {
     "data": {
      "text/plain": [
       "35766.96153846154"
      ]
     },
     "execution_count": 19,
     "metadata": {},
     "output_type": "execute_result"
    }
   ],
   "source": [
    "avg_count_after = sum(df_after['date'].value_counts(ascending=False))/len(df_after['date'].value_counts(ascending=False))\n",
    "avg_count_after"
   ]
  },
  {
   "cell_type": "code",
   "execution_count": null,
   "metadata": {},
   "outputs": [],
   "source": []
  }
 ],
 "metadata": {
  "kernelspec": {
   "display_name": "Python 3",
   "language": "python",
   "name": "python3"
  },
  "language_info": {
   "codemirror_mode": {
    "name": "ipython",
    "version": 3
   },
   "file_extension": ".py",
   "mimetype": "text/x-python",
   "name": "python",
   "nbconvert_exporter": "python",
   "pygments_lexer": "ipython3",
   "version": "3.8.5"
  }
 },
 "nbformat": 4,
 "nbformat_minor": 4
}
