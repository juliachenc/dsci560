{
 "cells": [
  {
   "cell_type": "code",
   "execution_count": 2,
   "metadata": {},
   "outputs": [],
   "source": [
    "import numpy as np\n",
    "import pandas as pd\n",
    "import matplotlib.pyplot as plt\n",
    "from scipy.cluster.vq import kmeans2, whiten"
   ]
  },
  {
   "cell_type": "code",
   "execution_count": 274,
   "metadata": {},
   "outputs": [],
   "source": [
    "from scipy.cluster.hierarchy import dendrogram, linkage, fcluster\n",
    "#from geopy.distance import vincenty\n",
    "from sklearn.decomposition import PCA\n",
    "from sklearn.cluster import DBSCAN\n",
    "import matplotlib.cm as cm\n",
    "from scipy.spatial.distance import cdist, pdist\n",
    "from sklearn import metrics\n",
    "from sklearn.cluster import KMeans\n",
    "from sklearn.preprocessing import StandardScaler\n",
    "from datetime import datetime\n",
    "import pandas as pd\n",
    "import numpy as np\n",
    "import matplotlib.pyplot as plt\n",
    "plt.style.use('ggplot')\n",
    "#from mpl_toolkits.basemap import Basemap\n",
    "import copy\n",
    "import json\n",
    "import math\n",
    "from collections import OrderedDict\n",
    "import warnings\n",
    "warnings.filterwarnings('ignore')\n",
    "%matplotlib inline"
   ]
  },
  {
   "cell_type": "code",
   "execution_count": 275,
   "metadata": {},
   "outputs": [],
   "source": [
    "import matplotlib.pyplot as plt\n",
    "from scipy.cluster.vq import kmeans2, whiten\n",
    "from scipy.cluster.hierarchy import dendrogram, linkage, fcluster\n",
    "#from geopy.distance import vincenty\n",
    "from sklearn.decomposition import PCA\n",
    "from sklearn.cluster import DBSCAN\n",
    "import matplotlib.cm as cm\n",
    "from scipy.spatial.distance import cdist, pdist\n",
    "from sklearn import metrics\n",
    "from sklearn.cluster import KMeans\n",
    "from sklearn.preprocessing import StandardScaler\n",
    "from datetime import datetime\n",
    "import pandas as pd\n",
    "import numpy as np\n",
    "import matplotlib.pyplot as plt\n",
    "plt.style.use('ggplot')\n",
    "#from mpl_toolkits.basemap import Basemap\n",
    "import copy\n",
    "import json\n",
    "import math\n",
    "from collections import OrderedDict\n",
    "import warnings\n",
    "warnings.filterwarnings('ignore')\n",
    "%matplotlib inline"
   ]
  },
  {
   "cell_type": "markdown",
   "metadata": {},
   "source": [
    "## second floor before covid19"
   ]
  },
  {
   "cell_type": "code",
   "execution_count": 276,
   "metadata": {},
   "outputs": [],
   "source": [
    "df_before = pd.read_csv(\"/Users/ruichao/Desktop/datapart2/03.txt\")\n",
    "df_before.columns = ['building', 'location', 'macaddress','latitude','longitude','date','time']"
   ]
  },
  {
   "cell_type": "code",
   "execution_count": 277,
   "metadata": {},
   "outputs": [],
   "source": [
    "df_before = df_before[(df_before['time'] > \"06:00:00\") & (df_before['time'] < \"22:00:00\")]"
   ]
  },
  {
   "cell_type": "code",
   "execution_count": 278,
   "metadata": {},
   "outputs": [
    {
     "data": {
      "text/plain": [
       "a4:c3:f0:a5:f0:b9    15256\n",
       "98:10:e8:39:b8:4d    15090\n",
       "98:ca:33:95:8c:fa    14793\n",
       "e4:a7:a0:99:db:cb    14693\n",
       "a4:c3:f0:a1:fc:0c    13674\n",
       "                     ...  \n",
       "e4:04:39:9d:44:3a        3\n",
       "58:d9:c3:eb:af:87        3\n",
       "e4:a7:a0:99:dc:9d        3\n",
       "04:69:f8:5a:69:e3        3\n",
       "88:66:a5:0f:64:04        3\n",
       "Name: macaddress, Length: 1420, dtype: int64"
      ]
     },
     "execution_count": 278,
     "metadata": {},
     "output_type": "execute_result"
    }
   ],
   "source": [
    "df_before['macaddress'].value_counts(ascending=False)"
   ]
  },
  {
   "cell_type": "code",
   "execution_count": 279,
   "metadata": {},
   "outputs": [
    {
     "data": {
      "text/plain": [
       "2020-03-02    342253\n",
       "2020-03-04    342223\n",
       "2020-03-03    338295\n",
       "2020-03-05    304921\n",
       "2020-03-09    153331\n",
       "2020-03-06    134968\n",
       "2020-02-28     18276\n",
       "2020-02-29      4802\n",
       "2020-03-08      1426\n",
       "2020-03-01      1242\n",
       "2020-03-07      1038\n",
       "Name: date, dtype: int64"
      ]
     },
     "execution_count": 279,
     "metadata": {},
     "output_type": "execute_result"
    }
   ],
   "source": [
    "df_before['date'].value_counts(ascending=False)"
   ]
  },
  {
   "cell_type": "code",
   "execution_count": 280,
   "metadata": {},
   "outputs": [],
   "source": [
    "df_one_day = df_before[df_before['date'] == '2020-03-08']"
   ]
  },
  {
   "cell_type": "code",
   "execution_count": 281,
   "metadata": {},
   "outputs": [
    {
     "data": {
      "image/png": "[encoded data removed]",
      "text/plain": [
       "<Figure size 432x288 with 1 Axes>"
      ]
     },
     "metadata": {
      "needs_background": "light"
     },
     "output_type": "display_data"
    }
   ],
   "source": [
    "series = df_one_day['macaddress'].value_counts(ascending=False)\n",
    "list_ = series.to_list()\n",
    "p = series.plot(kind='hist', color='r', alpha=0.5)"
   ]
  },
  {
   "cell_type": "code",
   "execution_count": null,
   "metadata": {},
   "outputs": [],
   "source": []
  },
  {
   "cell_type": "markdown",
   "metadata": {},
   "source": [
    "## average daily count of macaddress before covid 19"
   ]
  },
  {
   "cell_type": "code",
   "execution_count": 282,
   "metadata": {},
   "outputs": [
    {
     "name": "stdout",
     "output_type": "stream",
     "text": [
      "the average daily count of macaddress before covid 19 is  149343.18181818182\n"
     ]
    }
   ],
   "source": [
    "avg_count_before = sum(df_before['date'].value_counts(ascending=False))/len(df_before['date'].value_counts(ascending=False))\n",
    "print('the average daily count of macaddress before covid 19 is ', avg_count_before)"
   ]
  },
  {
   "cell_type": "code",
   "execution_count": 283,
   "metadata": {},
   "outputs": [
    {
     "data": {
      "text/html": [
       "<div>\n",
       "<style scoped>\n",
       "    .dataframe tbody tr th:only-of-type {\n",
       "        vertical-align: middle;\n",
       "    }\n",
       "\n",
       "    .dataframe tbody tr th {\n",
       "        vertical-align: top;\n",
       "    }\n",
       "\n",
       "    .dataframe thead th {\n",
       "        text-align: right;\n",
       "    }\n",
       "</style>\n",
       "<table border=\"1\" class=\"dataframe\">\n",
       "  <thead>\n",
       "    <tr style=\"text-align: right;\">\n",
       "      <th></th>\n",
       "      <th>index</th>\n",
       "      <th>building</th>\n",
       "      <th>location</th>\n",
       "      <th>macaddress</th>\n",
       "      <th>latitude</th>\n",
       "      <th>longitude</th>\n",
       "      <th>date</th>\n",
       "      <th>time</th>\n",
       "    </tr>\n",
       "  </thead>\n",
       "  <tbody>\n",
       "    <tr>\n",
       "      <th>0</th>\n",
       "      <td>153331</td>\n",
       "      <td>UK Office</td>\n",
       "      <td>1st Floor</td>\n",
       "      <td>c4:6e:1f:1c:f2:9b</td>\n",
       "      <td>51.460360</td>\n",
       "      <td>-0.932516</td>\n",
       "      <td>2020-03-08</td>\n",
       "      <td>21:59:57</td>\n",
       "    </tr>\n",
       "    <tr>\n",
       "      <th>1</th>\n",
       "      <td>153332</td>\n",
       "      <td>UK Office</td>\n",
       "      <td>1st Floor</td>\n",
       "      <td>c4:6e:1f:1c:f2:9b</td>\n",
       "      <td>51.460360</td>\n",
       "      <td>-0.932516</td>\n",
       "      <td>2020-03-08</td>\n",
       "      <td>21:59:43</td>\n",
       "    </tr>\n",
       "    <tr>\n",
       "      <th>2</th>\n",
       "      <td>153333</td>\n",
       "      <td>UK Office</td>\n",
       "      <td>1st Floor</td>\n",
       "      <td>c4:6e:1f:1c:f2:9b</td>\n",
       "      <td>51.460360</td>\n",
       "      <td>-0.932516</td>\n",
       "      <td>2020-03-08</td>\n",
       "      <td>21:59:34</td>\n",
       "    </tr>\n",
       "    <tr>\n",
       "      <th>3</th>\n",
       "      <td>153334</td>\n",
       "      <td>UK Office</td>\n",
       "      <td>1st Floor</td>\n",
       "      <td>c4:6e:1f:1c:f2:9b</td>\n",
       "      <td>51.460360</td>\n",
       "      <td>-0.932516</td>\n",
       "      <td>2020-03-08</td>\n",
       "      <td>21:59:25</td>\n",
       "    </tr>\n",
       "    <tr>\n",
       "      <th>4</th>\n",
       "      <td>153335</td>\n",
       "      <td>UK Office</td>\n",
       "      <td>1st Floor</td>\n",
       "      <td>c4:6e:1f:1c:f2:9b</td>\n",
       "      <td>51.460360</td>\n",
       "      <td>-0.932517</td>\n",
       "      <td>2020-03-08</td>\n",
       "      <td>21:59:17</td>\n",
       "    </tr>\n",
       "    <tr>\n",
       "      <th>...</th>\n",
       "      <td>...</td>\n",
       "      <td>...</td>\n",
       "      <td>...</td>\n",
       "      <td>...</td>\n",
       "      <td>...</td>\n",
       "      <td>...</td>\n",
       "      <td>...</td>\n",
       "      <td>...</td>\n",
       "    </tr>\n",
       "    <tr>\n",
       "      <th>1421</th>\n",
       "      <td>154752</td>\n",
       "      <td>UK Office</td>\n",
       "      <td>1st Floor</td>\n",
       "      <td>04:ea:56:92:f9:9b</td>\n",
       "      <td>51.460371</td>\n",
       "      <td>-0.932527</td>\n",
       "      <td>2020-03-08</td>\n",
       "      <td>06:05:54</td>\n",
       "    </tr>\n",
       "    <tr>\n",
       "      <th>1422</th>\n",
       "      <td>154753</td>\n",
       "      <td>UK Office</td>\n",
       "      <td>1st Floor</td>\n",
       "      <td>04:ea:56:92:f9:9b</td>\n",
       "      <td>51.460371</td>\n",
       "      <td>-0.932527</td>\n",
       "      <td>2020-03-08</td>\n",
       "      <td>06:05:48</td>\n",
       "    </tr>\n",
       "    <tr>\n",
       "      <th>1423</th>\n",
       "      <td>154754</td>\n",
       "      <td>UK Office</td>\n",
       "      <td>1st Floor</td>\n",
       "      <td>04:ea:56:92:f9:9b</td>\n",
       "      <td>51.460371</td>\n",
       "      <td>-0.932527</td>\n",
       "      <td>2020-03-08</td>\n",
       "      <td>06:05:38</td>\n",
       "    </tr>\n",
       "    <tr>\n",
       "      <th>1424</th>\n",
       "      <td>154755</td>\n",
       "      <td>UK Office</td>\n",
       "      <td>1st Floor</td>\n",
       "      <td>04:ea:56:92:f9:9b</td>\n",
       "      <td>51.460371</td>\n",
       "      <td>-0.932527</td>\n",
       "      <td>2020-03-08</td>\n",
       "      <td>06:05:22</td>\n",
       "    </tr>\n",
       "    <tr>\n",
       "      <th>1425</th>\n",
       "      <td>154756</td>\n",
       "      <td>UK Office</td>\n",
       "      <td>1st Floor</td>\n",
       "      <td>04:ea:56:92:f9:9b</td>\n",
       "      <td>51.460371</td>\n",
       "      <td>-0.932527</td>\n",
       "      <td>2020-03-08</td>\n",
       "      <td>06:05:17</td>\n",
       "    </tr>\n",
       "  </tbody>\n",
       "</table>\n",
       "<p>1426 rows × 8 columns</p>\n",
       "</div>"
      ],
      "text/plain": [
       "       index   building   location         macaddress   latitude  longitude  \\\n",
       "0     153331  UK Office  1st Floor  c4:6e:1f:1c:f2:9b  51.460360  -0.932516   \n",
       "1     153332  UK Office  1st Floor  c4:6e:1f:1c:f2:9b  51.460360  -0.932516   \n",
       "2     153333  UK Office  1st Floor  c4:6e:1f:1c:f2:9b  51.460360  -0.932516   \n",
       "3     153334  UK Office  1st Floor  c4:6e:1f:1c:f2:9b  51.460360  -0.932516   \n",
       "4     153335  UK Office  1st Floor  c4:6e:1f:1c:f2:9b  51.460360  -0.932517   \n",
       "...      ...        ...        ...                ...        ...        ...   \n",
       "1421  154752  UK Office  1st Floor  04:ea:56:92:f9:9b  51.460371  -0.932527   \n",
       "1422  154753  UK Office  1st Floor  04:ea:56:92:f9:9b  51.460371  -0.932527   \n",
       "1423  154754  UK Office  1st Floor  04:ea:56:92:f9:9b  51.460371  -0.932527   \n",
       "1424  154755  UK Office  1st Floor  04:ea:56:92:f9:9b  51.460371  -0.932527   \n",
       "1425  154756  UK Office  1st Floor  04:ea:56:92:f9:9b  51.460371  -0.932527   \n",
       "\n",
       "            date      time  \n",
       "0     2020-03-08  21:59:57  \n",
       "1     2020-03-08  21:59:43  \n",
       "2     2020-03-08  21:59:34  \n",
       "3     2020-03-08  21:59:25  \n",
       "4     2020-03-08  21:59:17  \n",
       "...          ...       ...  \n",
       "1421  2020-03-08  06:05:54  \n",
       "1422  2020-03-08  06:05:48  \n",
       "1423  2020-03-08  06:05:38  \n",
       "1424  2020-03-08  06:05:22  \n",
       "1425  2020-03-08  06:05:17  \n",
       "\n",
       "[1426 rows x 8 columns]"
      ]
     },
     "execution_count": 283,
     "metadata": {},
     "output_type": "execute_result"
    }
   ],
   "source": [
    "df_one_day.reset_index(inplace=True)\n",
    "df_one_day"
   ]
  },
  {
   "cell_type": "markdown",
   "metadata": {},
   "source": [
    "## kmeans clustering"
   ]
  },
  {
   "cell_type": "code",
   "execution_count": null,
   "metadata": {},
   "outputs": [],
   "source": []
  },
  {
   "cell_type": "code",
   "execution_count": 284,
   "metadata": {},
   "outputs": [],
   "source": [
    "loc_sum_lst2 = []\n",
    "for i in range(len(df_one_day)):\n",
    "    loc_lst2 = []\n",
    "    loc_lst2.append(df_one_day['latitude'][i])\n",
    "    loc_lst2.append(df_one_day['longitude'][i])\n",
    "    loc_sum_lst2.append(loc_lst2)"
   ]
  },
  {
   "cell_type": "code",
   "execution_count": 285,
   "metadata": {},
   "outputs": [
    {
     "data": {
      "text/plain": [
       "1426"
      ]
     },
     "execution_count": 285,
     "metadata": {},
     "output_type": "execute_result"
    }
   ],
   "source": [
    "len(loc_sum_lst2)"
   ]
  },
  {
   "cell_type": "code",
   "execution_count": 286,
   "metadata": {},
   "outputs": [],
   "source": [
    "coordinates2= np.array(loc_sum_lst2)\n",
    "c2 = whiten(coordinates2)"
   ]
  },
  {
   "cell_type": "code",
   "execution_count": 287,
   "metadata": {},
   "outputs": [
    {
     "data": {
      "image/png": "[encoded data removed]",
      "text/plain": [
       "<Figure size 432x288 with 1 Axes>"
      ]
     },
     "metadata": {
      "needs_background": "light"
     },
     "output_type": "display_data"
    }
   ],
   "source": [
    "x, y = kmeans2(whiten(coordinates2), 3, iter = 20)  \n",
    "plt.scatter(coordinates2[:,0], coordinates2[:,1], c=y);\n",
    "plt.show()"
   ]
  },
  {
   "cell_type": "code",
   "execution_count": 288,
   "metadata": {},
   "outputs": [],
   "source": [
    "list_y = list(y)"
   ]
  },
  {
   "cell_type": "code",
   "execution_count": 289,
   "metadata": {},
   "outputs": [],
   "source": [
    "from sklearn.metrics import silhouette_score\n",
    "from sklearn.cluster import KMeans\n"
   ]
  },
  {
   "cell_type": "code",
   "execution_count": 290,
   "metadata": {},
   "outputs": [],
   "source": [
    "# K_clusters = range(1,10)\n",
    "# kmeans = [KMeans(n_clusters=i) for i in K_clusters]\n",
    "# Y_axis = df_one_day[['longitude']]\n",
    "# X_axis = df_one_day[['latitude']]\n",
    "# score = [kmeans[i].fit(Y_axis).score(Y_axis) for i in range(len(kmeans))]\n",
    "# # Visualize\n",
    "# plt.plot(K_clusters, score)\n",
    "# plt.xlabel('Number of Clusters')\n",
    "# plt.ylabel('Score')\n",
    "# plt.title('Elbow Curve')\n",
    "# plt.show()"
   ]
  },
  {
   "cell_type": "code",
   "execution_count": null,
   "metadata": {},
   "outputs": [],
   "source": []
  },
  {
   "cell_type": "markdown",
   "metadata": {},
   "source": [
    "## second floor after covid19"
   ]
  },
  {
   "cell_type": "code",
   "execution_count": 291,
   "metadata": {},
   "outputs": [
    {
     "data": {
      "text/plain": [
       "2020-03-12    353886\n",
       "2020-03-10    321500\n",
       "2020-03-11    312804\n",
       "2020-03-16    236174\n",
       "2020-03-09    108715\n",
       "2020-03-13     95198\n",
       "2020-03-17     12547\n",
       "2020-03-20      2761\n",
       "2020-03-21      2630\n",
       "2020-03-18      2051\n",
       "2020-03-14      1537\n",
       "2020-03-19      1256\n",
       "2020-03-15      1092\n",
       "Name: date, dtype: int64"
      ]
     },
     "execution_count": 291,
     "metadata": {},
     "output_type": "execute_result"
    }
   ],
   "source": [
    "df_after = pd.read_csv(\"/Users/ruichao/Desktop/datapart2/01.txt\")\n",
    "df_after.columns = ['building', 'location', 'macaddress','latitude','longitude','date','time']\n",
    "df_after = df_after[(df_after['time'] > \"06:00:00\") & (df_after['time'] < \"22:00:00\")]\n",
    "df_after['macaddress'].value_counts(ascending=False)\n",
    "df_after['date'].value_counts(ascending=False)\n"
   ]
  },
  {
   "cell_type": "code",
   "execution_count": 292,
   "metadata": {},
   "outputs": [
    {
     "data": {
      "image/png": "[encoded data removed]",
      "text/plain": [
       "<Figure size 432x288 with 1 Axes>"
      ]
     },
     "metadata": {
      "needs_background": "light"
     },
     "output_type": "display_data"
    }
   ],
   "source": [
    "df_oneday2 = df_after[df_after['date'] == '2020-03-09']\n",
    "series2 = df_oneday2['macaddress'].value_counts(ascending=False)\n",
    "list_2 = series2.to_list()\n",
    "p = series2.plot(kind='hist', color='r', alpha=0.5)"
   ]
  },
  {
   "cell_type": "code",
   "execution_count": 293,
   "metadata": {},
   "outputs": [],
   "source": [
    "df_oneday2.reset_index(inplace=True)"
   ]
  },
  {
   "cell_type": "code",
   "execution_count": null,
   "metadata": {},
   "outputs": [],
   "source": []
  },
  {
   "cell_type": "markdown",
   "metadata": {},
   "source": [
    "## k-means clustering"
   ]
  },
  {
   "cell_type": "code",
   "execution_count": 294,
   "metadata": {},
   "outputs": [],
   "source": [
    "loc_sum_lst = []\n",
    "for i in range(len(df_oneday2)):\n",
    "    loc_lst = []\n",
    "    loc_lst.append(df_oneday2['latitude'][i])\n",
    "    loc_lst.append(df_oneday2['longitude'][i])\n",
    "    loc_sum_lst.append(loc_lst)"
   ]
  },
  {
   "cell_type": "code",
   "execution_count": 295,
   "metadata": {},
   "outputs": [],
   "source": [
    "coordinates= np.array(loc_sum_lst)\n",
    "c = whiten(coordinates)"
   ]
  },
  {
   "cell_type": "code",
   "execution_count": 296,
   "metadata": {},
   "outputs": [
    {
     "data": {
      "image/png": "[encoded data removed]",
      "text/plain": [
       "<Figure size 432x288 with 1 Axes>"
      ]
     },
     "metadata": {
      "needs_background": "light"
     },
     "output_type": "display_data"
    }
   ],
   "source": [
    "x, y2 = kmeans2(whiten(coordinates), 3, iter = 20)  \n",
    "plt.scatter(coordinates[:,0], coordinates[:,1], c=y2);\n",
    "plt.show()"
   ]
  },
  {
   "cell_type": "code",
   "execution_count": 297,
   "metadata": {},
   "outputs": [],
   "source": [
    "list_y2 = list(y2)"
   ]
  },
  {
   "cell_type": "code",
   "execution_count": 298,
   "metadata": {},
   "outputs": [],
   "source": [
    "from sklearn.metrics import silhouette_score\n",
    "from sklearn.cluster import KMeans"
   ]
  },
  {
   "cell_type": "code",
   "execution_count": 299,
   "metadata": {},
   "outputs": [],
   "source": [
    "# K_clusters = range(1,10)\n",
    "# kmeans = [KMeans(n_clusters=i) for i in K_clusters]\n",
    "# Y_axis = df_oneday2[['longitude']]\n",
    "# X_axis = df_oneday2[['latitude']]\n",
    "# score = [kmeans[i].fit(Y_axis).score(Y_axis) for i in range(len(kmeans))]\n",
    "# # Visualize\n",
    "# plt.plot(K_clusters, score)\n",
    "# plt.xlabel('Number of Clusters')\n",
    "# plt.ylabel('Score')\n",
    "# plt.title('Elbow Curve')\n",
    "# plt.show()"
   ]
  },
  {
   "cell_type": "code",
   "execution_count": null,
   "metadata": {},
   "outputs": [],
   "source": []
  },
  {
   "cell_type": "code",
   "execution_count": null,
   "metadata": {},
   "outputs": [],
   "source": []
  },
  {
   "cell_type": "markdown",
   "metadata": {},
   "source": [
    "## average daily count of macaddress after covid 19"
   ]
  },
  {
   "cell_type": "code",
   "execution_count": 300,
   "metadata": {},
   "outputs": [
    {
     "name": "stdout",
     "output_type": "stream",
     "text": [
      "average daily count of macaddress after covid 19 is  111703.92307692308\n"
     ]
    }
   ],
   "source": [
    "avg_count_after = sum(df_after['date'].value_counts(ascending=False))/len(df_after['date'].value_counts(ascending=False))\n",
    "print('average daily count of macaddress after covid 19 is ', avg_count_after)"
   ]
  },
  {
   "cell_type": "code",
   "execution_count": 301,
   "metadata": {},
   "outputs": [],
   "source": [
    "count_list = []\n",
    "for i in range(len(list_2)):\n",
    "    sublist = []\n",
    "    sublist.append('2020-08-03')\n",
    "    sublist.append(list_2[i])\n",
    "    count_list.append(sublist)\n",
    "    "
   ]
  },
  {
   "cell_type": "code",
   "execution_count": null,
   "metadata": {},
   "outputs": [],
   "source": []
  },
  {
   "cell_type": "code",
   "execution_count": 302,
   "metadata": {},
   "outputs": [],
   "source": [
    "#list(set(df_after['date']))"
   ]
  },
  {
   "cell_type": "code",
   "execution_count": 303,
   "metadata": {},
   "outputs": [],
   "source": [
    "# series2_unsorted = df_oneday2['macaddress'].value_counts\n",
    "# type(series2)"
   ]
  },
  {
   "cell_type": "code",
   "execution_count": 304,
   "metadata": {},
   "outputs": [],
   "source": [
    "# list(df_after['date'].value_counts)"
   ]
  },
  {
   "cell_type": "markdown",
   "metadata": {},
   "source": [
    "## generate dataset"
   ]
  },
  {
   "cell_type": "code",
   "execution_count": 305,
   "metadata": {},
   "outputs": [],
   "source": [
    "##before covid-19\n",
    "new_list_y = [x+1 for x in list_y]\n",
    "df_one_day['label'] = new_list_y\n",
    "new_list_y2 = [x+1 for x in list_y2]\n",
    "df_oneday2['label'] = new_list_y2"
   ]
  },
  {
   "cell_type": "code",
   "execution_count": 306,
   "metadata": {},
   "outputs": [],
   "source": [
    "#before_covid = df_one_day.to_csv('before_covid_1st_floor_0308.csv')"
   ]
  },
  {
   "cell_type": "code",
   "execution_count": 307,
   "metadata": {},
   "outputs": [],
   "source": [
    "# after_covid = df_oneday2.to_csv('after_covid_1st_floor_0309.csv')"
   ]
  },
  {
   "cell_type": "code",
   "execution_count": null,
   "metadata": {},
   "outputs": [],
   "source": []
  },
  {
   "cell_type": "code",
   "execution_count": 308,
   "metadata": {},
   "outputs": [],
   "source": [
    "# df1 = pd.read_csv(\"/Users/ruichao/Desktop/before_covid_1st_floor_0228.csv\")\n",
    "# df2 = pd.read_csv(\"/Users/ruichao/Desktop/before_covid_1st_floor_0229.csv\")\n",
    "# df3 = pd.read_csv(\"/Users/ruichao/Desktop/before_covid_1st_floor_0301.csv\")\n",
    "# df4 = pd.read_csv(\"/Users/ruichao/Desktop/before_covid_1st_floor_0303.csv\")\n",
    "# df5 = pd.read_csv(\"/Users/ruichao/Desktop/before_covid_1st_floor_0304.csv\")\n",
    "# df6 = pd.read_csv(\"/Users/ruichao/Desktop/before_covid_1st_floor_0305.csv\")\n",
    "# df7 = pd.read_csv(\"/Users/ruichao/Desktop/before_covid_1st_floor_0306.csv\")\n",
    "# df8 = pd.read_csv(\"/Users/ruichao/Desktop/before_covid_1st_floor_0307.csv\")\n",
    "# df9 = pd.read_csv(\"/Users/ruichao/Desktop/before_covid_1st_floor_0308.csv\")\n",
    "# df10 = pd.read_csv(\"/Users/ruichao/Desktop/after_covid_1st_floor_0309.csv\")\n",
    "# df11 = pd.read_csv(\"/Users/ruichao/Desktop/after_covid_1st_floor_0310.csv\")\n",
    "# df12 = pd.read_csv(\"/Users/ruichao/Desktop/after_covid_1st_floor_0311.csv\")\n",
    "# df13 = pd.read_csv(\"/Users/ruichao/Desktop/after_covid_1st_floor_0312.csv\")\n",
    "# df14 = pd.read_csv(\"/Users/ruichao/Desktop/after_covid_1st_floor_0313.csv\")\n",
    "# df15 = pd.read_csv(\"/Users/ruichao/Desktop/after_covid_1st_floor_0314.csv\")\n",
    "# df16 = pd.read_csv(\"/Users/ruichao/Desktop/after_covid_1st_floor_0315.csv\")\n",
    "# df17 = pd.read_csv(\"/Users/ruichao/Desktop/after_covid_1st_floor_0316.csv\")\n",
    "# df18 = pd.read_csv(\"/Users/ruichao/Desktop/after_covid_1st_floor_0317.csv\")"
   ]
  },
  {
   "cell_type": "code",
   "execution_count": 309,
   "metadata": {},
   "outputs": [
    {
     "data": {
      "text/html": [
       "<div>\n",
       "<style scoped>\n",
       "    .dataframe tbody tr th:only-of-type {\n",
       "        vertical-align: middle;\n",
       "    }\n",
       "\n",
       "    .dataframe tbody tr th {\n",
       "        vertical-align: top;\n",
       "    }\n",
       "\n",
       "    .dataframe thead th {\n",
       "        text-align: right;\n",
       "    }\n",
       "</style>\n",
       "<table border=\"1\" class=\"dataframe\">\n",
       "  <thead>\n",
       "    <tr style=\"text-align: right;\">\n",
       "      <th></th>\n",
       "      <th>Unnamed: 0</th>\n",
       "      <th>index</th>\n",
       "      <th>building</th>\n",
       "      <th>location</th>\n",
       "      <th>macaddress</th>\n",
       "      <th>latitude</th>\n",
       "      <th>longitude</th>\n",
       "      <th>date</th>\n",
       "      <th>time</th>\n",
       "      <th>label</th>\n",
       "    </tr>\n",
       "  </thead>\n",
       "  <tbody>\n",
       "    <tr>\n",
       "      <th>0</th>\n",
       "      <td>0</td>\n",
       "      <td>1343436</td>\n",
       "      <td>UK Office</td>\n",
       "      <td>1st Floor</td>\n",
       "      <td>b4:ef:39:c3:4a:2a</td>\n",
       "      <td>51.460374</td>\n",
       "      <td>-0.932536</td>\n",
       "      <td>2020-03-09</td>\n",
       "      <td>21:43:47</td>\n",
       "      <td>1</td>\n",
       "    </tr>\n",
       "    <tr>\n",
       "      <th>1</th>\n",
       "      <td>1</td>\n",
       "      <td>1343437</td>\n",
       "      <td>UK Office</td>\n",
       "      <td>1st Floor</td>\n",
       "      <td>b4:ef:39:c3:4a:2a</td>\n",
       "      <td>51.460370</td>\n",
       "      <td>-0.932530</td>\n",
       "      <td>2020-03-09</td>\n",
       "      <td>21:43:33</td>\n",
       "      <td>1</td>\n",
       "    </tr>\n",
       "    <tr>\n",
       "      <th>2</th>\n",
       "      <td>2</td>\n",
       "      <td>1343438</td>\n",
       "      <td>UK Office</td>\n",
       "      <td>1st Floor</td>\n",
       "      <td>b4:ef:39:c3:4a:2a</td>\n",
       "      <td>51.460370</td>\n",
       "      <td>-0.932530</td>\n",
       "      <td>2020-03-09</td>\n",
       "      <td>21:43:24</td>\n",
       "      <td>1</td>\n",
       "    </tr>\n",
       "    <tr>\n",
       "      <th>3</th>\n",
       "      <td>3</td>\n",
       "      <td>1343439</td>\n",
       "      <td>UK Office</td>\n",
       "      <td>1st Floor</td>\n",
       "      <td>b4:ef:39:c3:4a:2a</td>\n",
       "      <td>51.460370</td>\n",
       "      <td>-0.932530</td>\n",
       "      <td>2020-03-09</td>\n",
       "      <td>21:43:12</td>\n",
       "      <td>1</td>\n",
       "    </tr>\n",
       "    <tr>\n",
       "      <th>4</th>\n",
       "      <td>4</td>\n",
       "      <td>1343440</td>\n",
       "      <td>UK Office</td>\n",
       "      <td>1st Floor</td>\n",
       "      <td>b4:ef:39:c3:4a:2a</td>\n",
       "      <td>51.460370</td>\n",
       "      <td>-0.932530</td>\n",
       "      <td>2020-03-09</td>\n",
       "      <td>21:43:05</td>\n",
       "      <td>1</td>\n",
       "    </tr>\n",
       "    <tr>\n",
       "      <th>...</th>\n",
       "      <td>...</td>\n",
       "      <td>...</td>\n",
       "      <td>...</td>\n",
       "      <td>...</td>\n",
       "      <td>...</td>\n",
       "      <td>...</td>\n",
       "      <td>...</td>\n",
       "      <td>...</td>\n",
       "      <td>...</td>\n",
       "      <td>...</td>\n",
       "    </tr>\n",
       "    <tr>\n",
       "      <th>108710</th>\n",
       "      <td>108710</td>\n",
       "      <td>1452146</td>\n",
       "      <td>UK Office</td>\n",
       "      <td>1st Floor</td>\n",
       "      <td>5c:5f:67:8b:1b:31</td>\n",
       "      <td>51.460898</td>\n",
       "      <td>-0.932290</td>\n",
       "      <td>2020-03-09</td>\n",
       "      <td>13:23:48</td>\n",
       "      <td>3</td>\n",
       "    </tr>\n",
       "    <tr>\n",
       "      <th>108711</th>\n",
       "      <td>108711</td>\n",
       "      <td>1452147</td>\n",
       "      <td>UK Office</td>\n",
       "      <td>1st Floor</td>\n",
       "      <td>48:a4:72:ae:12:4e</td>\n",
       "      <td>51.460847</td>\n",
       "      <td>-0.932325</td>\n",
       "      <td>2020-03-09</td>\n",
       "      <td>13:23:48</td>\n",
       "      <td>3</td>\n",
       "    </tr>\n",
       "    <tr>\n",
       "      <th>108712</th>\n",
       "      <td>108712</td>\n",
       "      <td>1452148</td>\n",
       "      <td>UK Office</td>\n",
       "      <td>1st Floor</td>\n",
       "      <td>e4:a7:a0:99:db:cb</td>\n",
       "      <td>51.460417</td>\n",
       "      <td>-0.932692</td>\n",
       "      <td>2020-03-09</td>\n",
       "      <td>13:23:47</td>\n",
       "      <td>1</td>\n",
       "    </tr>\n",
       "    <tr>\n",
       "      <th>108713</th>\n",
       "      <td>108713</td>\n",
       "      <td>1452149</td>\n",
       "      <td>UK Office</td>\n",
       "      <td>1st Floor</td>\n",
       "      <td>48:45:20:4b:c2:51</td>\n",
       "      <td>51.460749</td>\n",
       "      <td>-0.932243</td>\n",
       "      <td>2020-03-09</td>\n",
       "      <td>13:23:47</td>\n",
       "      <td>3</td>\n",
       "    </tr>\n",
       "    <tr>\n",
       "      <th>108714</th>\n",
       "      <td>108714</td>\n",
       "      <td>1452150</td>\n",
       "      <td>UK Office</td>\n",
       "      <td>1st Floor</td>\n",
       "      <td>88:66:a5:55:76:c6</td>\n",
       "      <td>51.460845</td>\n",
       "      <td>-0.932266</td>\n",
       "      <td>2020-03-09</td>\n",
       "      <td>13:23:47</td>\n",
       "      <td>3</td>\n",
       "    </tr>\n",
       "  </tbody>\n",
       "</table>\n",
       "<p>108715 rows × 10 columns</p>\n",
       "</div>"
      ],
      "text/plain": [
       "        Unnamed: 0    index   building   location         macaddress  \\\n",
       "0                0  1343436  UK Office  1st Floor  b4:ef:39:c3:4a:2a   \n",
       "1                1  1343437  UK Office  1st Floor  b4:ef:39:c3:4a:2a   \n",
       "2                2  1343438  UK Office  1st Floor  b4:ef:39:c3:4a:2a   \n",
       "3                3  1343439  UK Office  1st Floor  b4:ef:39:c3:4a:2a   \n",
       "4                4  1343440  UK Office  1st Floor  b4:ef:39:c3:4a:2a   \n",
       "...            ...      ...        ...        ...                ...   \n",
       "108710      108710  1452146  UK Office  1st Floor  5c:5f:67:8b:1b:31   \n",
       "108711      108711  1452147  UK Office  1st Floor  48:a4:72:ae:12:4e   \n",
       "108712      108712  1452148  UK Office  1st Floor  e4:a7:a0:99:db:cb   \n",
       "108713      108713  1452149  UK Office  1st Floor  48:45:20:4b:c2:51   \n",
       "108714      108714  1452150  UK Office  1st Floor  88:66:a5:55:76:c6   \n",
       "\n",
       "         latitude  longitude        date      time  label  \n",
       "0       51.460374  -0.932536  2020-03-09  21:43:47      1  \n",
       "1       51.460370  -0.932530  2020-03-09  21:43:33      1  \n",
       "2       51.460370  -0.932530  2020-03-09  21:43:24      1  \n",
       "3       51.460370  -0.932530  2020-03-09  21:43:12      1  \n",
       "4       51.460370  -0.932530  2020-03-09  21:43:05      1  \n",
       "...           ...        ...         ...       ...    ...  \n",
       "108710  51.460898  -0.932290  2020-03-09  13:23:48      3  \n",
       "108711  51.460847  -0.932325  2020-03-09  13:23:48      3  \n",
       "108712  51.460417  -0.932692  2020-03-09  13:23:47      1  \n",
       "108713  51.460749  -0.932243  2020-03-09  13:23:47      3  \n",
       "108714  51.460845  -0.932266  2020-03-09  13:23:47      3  \n",
       "\n",
       "[108715 rows x 10 columns]"
      ]
     },
     "execution_count": 309,
     "metadata": {},
     "output_type": "execute_result"
    }
   ],
   "source": [
    "#df10"
   ]
  },
  {
   "cell_type": "code",
   "execution_count": 310,
   "metadata": {},
   "outputs": [],
   "source": [
    "# merged_df_aftercovid = pd.concat([df10, df11, df12, df13, df14, df15, df16, df17, df18],ignore_index=True)"
   ]
  },
  {
   "cell_type": "code",
   "execution_count": 311,
   "metadata": {},
   "outputs": [],
   "source": [
    "# merged_df_aftercovid"
   ]
  },
  {
   "cell_type": "code",
   "execution_count": 312,
   "metadata": {},
   "outputs": [],
   "source": [
    "# merged_df_aftercovid['label'][3456:9994]"
   ]
  },
  {
   "cell_type": "code",
   "execution_count": 313,
   "metadata": {},
   "outputs": [],
   "source": [
    "# combined_data = merged_df_aftercovid.to_csv('merged_data_aftercovid.csv')\n",
    "#combined_data"
   ]
  },
  {
   "cell_type": "code",
   "execution_count": 314,
   "metadata": {},
   "outputs": [],
   "source": [
    "# df19 = pd.read_csv(\"/Users/ruichao/Desktop/merged_data.csv\")\n",
    "# len(df19)"
   ]
  },
  {
   "cell_type": "code",
   "execution_count": 315,
   "metadata": {},
   "outputs": [],
   "source": [
    "# k = 0\n",
    "# for i in range(len(df19)):\n",
    "#     if df19['date'][i] == '2020-08-30':\n",
    "#         k +=1 \n",
    "# print(k)\n",
    "        "
   ]
  },
  {
   "cell_type": "code",
   "execution_count": null,
   "metadata": {},
   "outputs": [],
   "source": []
  },
  {
   "cell_type": "code",
   "execution_count": 322,
   "metadata": {},
   "outputs": [
    {
     "data": {
      "text/plain": [
       "{'2019-10-23', '2019-10-28', '2019-12-03'}"
      ]
     },
     "execution_count": 322,
     "metadata": {},
     "output_type": "execute_result"
    }
   ],
   "source": [
    "df_ = pd.read_csv(\"/Users/ruichao/Desktop/before_covid_whole_data.csv\")\n",
    "set(df_['date'])"
   ]
  },
  {
   "cell_type": "code",
   "execution_count": 319,
   "metadata": {},
   "outputs": [
    {
     "data": {
      "text/plain": [
       "797348"
      ]
     },
     "execution_count": 319,
     "metadata": {},
     "output_type": "execute_result"
    }
   ],
   "source": [
    "len(df_)"
   ]
  },
  {
   "cell_type": "code",
   "execution_count": 6,
   "metadata": {},
   "outputs": [],
   "source": [
    "# data1 = pd.read_csv(\"/Users/ruichao/Desktop/after_preprocessed_train1.csv\")\n",
    "# data2 = pd.read_csv(\"/Users/ruichao/Desktop/after_preprocessed_train2.csv\")\n",
    "# data3 = pd.read_csv(\"/Users/ruichao/Desktop/after_preprocessed_train3.csv\")\n",
    "# mergedata = pd.concat([data1,data2,data3],ignore_index=True)"
   ]
  },
  {
   "cell_type": "code",
   "execution_count": 7,
   "metadata": {},
   "outputs": [],
   "source": [
    "# mergedata"
   ]
  },
  {
   "cell_type": "code",
   "execution_count": 4,
   "metadata": {},
   "outputs": [],
   "source": [
    "# combined_data = mergedata.to_csv('combined_training_data.csv')"
   ]
  },
  {
   "cell_type": "code",
   "execution_count": null,
   "metadata": {},
   "outputs": [],
   "source": []
  }
 ],
 "metadata": {
  "kernelspec": {
   "display_name": "Python 3",
   "language": "python",
   "name": "python3"
  },
  "language_info": {
   "codemirror_mode": {
    "name": "ipython",
    "version": 3
   },
   "file_extension": ".py",
   "mimetype": "text/x-python",
   "name": "python",
   "nbconvert_exporter": "python",
   "pygments_lexer": "ipython3",
   "version": "3.8.5"
  }
 },
 "nbformat": 4,
 "nbformat_minor": 4
}
